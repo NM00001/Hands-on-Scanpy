


# Import necessary libraries
import scanpy as sc
import numpy as np
import pandas as pd
import matplotlib.pyplot as plt
import seaborn as sns

# Configure Scanpy
sc.settings.verbosity = 3  # Verbosity level (0=errors, 1=warnings, 2=info, 3=hints)
sc.settings.set_figure_params(dpi=80, facecolor='white')

# Define paths
import os
data_dir = '../data/'
results_dir = '../results/'

# Create directories if they don't exist
os.makedirs(data_dir, exist_ok=True)
os.makedirs(results_dir, exist_ok=True)

print(f"📦 Scanpy version: {sc.__version__}")



